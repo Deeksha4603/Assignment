{
 "cells": [
  {
   "cell_type": "code",
   "execution_count": 1,
   "id": "6dc6afa9",
   "metadata": {},
   "outputs": [],
   "source": [
    "# data science tools ard ecosystems"
   ]
  },
  {
   "cell_type": "markdown",
   "id": "2fb47439",
   "metadata": {},
   "source": [
    "in this notebook data science tools and ecosystems are summarized "
   ]
  },
  {
   "cell_type": "markdown",
   "id": "76d3b89d",
   "metadata": {},
   "source": [
    "**objectives**\n",
    "+ RStudio\n",
    "+ python\n",
    "+ Julia"
   ]
  },
  {
   "cell_type": "markdown",
   "id": "6ec348d9",
   "metadata": {},
   "source": [
    "some popular languages used by data scientists are\n",
    "1. R Studio\n",
    "2. Python\n",
    "3. Julia\n",
    "4. Scala\n",
    "5. Java"
   ]
  },
  {
   "cell_type": "code",
   "execution_count": null,
   "id": "8ea7f2d9",
   "metadata": {},
   "outputs": [],
   "source": []
  },
  {
   "cell_type": "markdown",
   "id": "321e2854",
   "metadata": {},
   "source": [
    "some data science libraries are\n",
    "1. numpy\n",
    "2. pandas\n",
    "3. matplotlib\n",
    "4. scikit-learn\n",
    "5. seaborn"
   ]
  },
  {
   "cell_type": "code",
   "execution_count": null,
   "id": "7877ace8",
   "metadata": {},
   "outputs": [],
   "source": []
  },
  {
   "cell_type": "markdown",
   "id": "62e0893b",
   "metadata": {},
   "source": [
    "data science tools\n",
    "1. Jupyter notebooks\n",
    "2. RStudio\n",
    "3. SQL\n",
    "4. Hadoop\n",
    "5. Git"
   ]
  },
  {
   "cell_type": "markdown",
   "id": "f53891bc",
   "metadata": {},
   "source": [
    "###below are a few wxamples of evaluating arithmatic expressions in python"
   ]
  },
  {
   "cell_type": "code",
   "execution_count": 2,
   "id": "f25d2653",
   "metadata": {},
   "outputs": [
    {
     "data": {
      "text/plain": [
       "17"
      ]
     },
     "execution_count": 2,
     "metadata": {},
     "output_type": "execute_result"
    }
   ],
   "source": [
    "#simple arithmatic expression to multiply and add numbers\n",
    "(3*4)+5"
   ]
  },
  {
   "cell_type": "code",
   "execution_count": 3,
   "id": "9786a70c",
   "metadata": {},
   "outputs": [
    {
     "data": {
      "text/plain": [
       "3.3333333333333335"
      ]
     },
     "execution_count": 3,
     "metadata": {},
     "output_type": "execute_result"
    }
   ],
   "source": [
    "#converting 200 minutes to hours by dividing by 60\n",
    "(200/60)"
   ]
  },
  {
   "cell_type": "code",
   "execution_count": null,
   "id": "f5a1f2d5",
   "metadata": {},
   "outputs": [],
   "source": []
  },
  {
   "cell_type": "code",
   "execution_count": null,
   "id": "032600ff",
   "metadata": {},
   "outputs": [],
   "source": []
  },
  {
   "cell_type": "markdown",
   "id": "78d6bc08",
   "metadata": {},
   "source": [
    "##AUTHOR<br>\n",
    "Deeksha Suresh"
   ]
  },
  {
   "cell_type": "code",
   "execution_count": null,
   "id": "2702ce3c",
   "metadata": {},
   "outputs": [],
   "source": []
  }
 ],
 "metadata": {
  "kernelspec": {
   "display_name": "Python 3 (ipykernel)",
   "language": "python",
   "name": "python3"
  },
  "language_info": {
   "codemirror_mode": {
    "name": "ipython",
    "version": 3
   },
   "file_extension": ".py",
   "mimetype": "text/x-python",
   "name": "python",
   "nbconvert_exporter": "python",
   "pygments_lexer": "ipython3",
   "version": "3.9.12"
  }
 },
 "nbformat": 4,
 "nbformat_minor": 5
}
